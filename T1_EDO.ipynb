{
  "nbformat": 4,
  "nbformat_minor": 0,
  "metadata": {
    "colab": {
      "name": "T1_EDO.ipynb",
      "version": "0.3.2",
      "provenance": [],
      "include_colab_link": true
    },
    "kernelspec": {
      "name": "python3",
      "display_name": "Python 3"
    }
  },
  "cells": [
    {
      "cell_type": "markdown",
      "metadata": {
        "id": "view-in-github",
        "colab_type": "text"
      },
      "source": [
        "<a href=\"https://colab.research.google.com/github/DiegoRomanCortes/TareaEDO/blob/master/T1_EDO.ipynb\" target=\"_parent\"><img src=\"https://colab.research.google.com/assets/colab-badge.svg\" alt=\"Open In Colab\"/></a>"
      ]
    },
    {
      "metadata": {
        "id": "NCzJMzgpaNiI",
        "colab_type": "code",
        "colab": {
          "base_uri": "https://localhost:8080/",
          "height": 34
        },
        "outputId": "98bd591a-e1c4-475d-ab80-3a7982f2f49f"
      },
      "cell_type": "code",
      "source": [
        "import numpy as np\n",
        "G = 6.674e-11 #constante de gravitacion universal\n",
        "M=1.9884e30 #masa del sol\n",
        "m=1/(G*M) #masa tal que GMm=1\n",
        "\n",
        "#suposicion: m orbita a M con condiciones iniciales y origen en el centro de M\n",
        "x_0 = 10\n",
        "y_0 = 0\n",
        "x_dot_0 = 0\n",
        "y_dot_0 = 0.3\n",
        "\n",
        "def posicion_t(x,y):\n",
        "  return np.array(x,y)\n",
        "\n",
        "def velocidad_t(pos):\n",
        "  \n",
        "\n",
        "def potencial_gravitacional(M,m,r):\n",
        "  return -G*M*m/r #formula calcada\n",
        "\n",
        "def energia_cinetica(m,pos):\n",
        "  return"
      ],
      "execution_count": 5,
      "outputs": [
        {
          "output_type": "stream",
          "text": [
            "1.9884e+30 7.535464760640182e-21 0.9999999999999999\n"
          ],
          "name": "stdout"
        }
      ]
    }
  ]
}